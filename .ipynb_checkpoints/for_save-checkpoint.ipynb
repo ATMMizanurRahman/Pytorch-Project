{
 "cells": [
  {
   "cell_type": "code",
   "execution_count": 15,
   "metadata": {},
   "outputs": [],
   "source": [
    "import os, shutil, torch, pandas as pd, numpy as np, matplotlib.pyplot as plt\n",
    "from skimage import io, transform\n",
    "from scipy import signal\n",
    "from scipy.io import wavfile\n",
    "from torch.utils.data import Dataset, DataLoader\n",
    "from torchvision import transforms, utils\n",
    "from random import shuffle\n",
    "import librosa\n",
    "import torch.nn as nn, torch.nn.functional as F, torch.optim as optim\n",
    "\n"
   ]
  },
  {
   "cell_type": "code",
   "execution_count": 16,
   "metadata": {},
   "outputs": [],
   "source": [
    "numbers=['zero','one','two','three','four','five','six','seven','eight','nine']\n",
    "#print(numbers)\n",
    "actual_dir='./data/recordings'\n",
    "raw_data=os.path.join(actual_dir,'raw_data')\n",
    "train_data=os.path.join(actual_dir,'train_data')\n",
    "if not os.path.isdir(train_data):\n",
    "        os.mkdir(train_data)\n",
    "test_data=os.path.join(actual_dir,'test_data')\n",
    "if not os.path.isdir(test_data):\n",
    "        os.mkdir(test_data)\n",
    "copy_data=os.path.join(actual_dir,'copy_data')\n",
    "if not os.path.isdir(copy_data):\n",
    "        os.mkdir(copy_data)\n",
    "\n",
    "for i in numbers:\n",
    "    patthh=os.path.join(copy_data,i)\n",
    "    if not os.path.isdir(patthh):\n",
    "        os.mkdir(patthh)\n",
    "\n",
    "        \n",
    "all_raw_data=os.listdir(os.path.join(raw_data))\n",
    "for f in all_raw_data:\n",
    "    first_letter=f[0]\n",
    "    src_file=os.path.join(raw_data,f)\n",
    "    dest_file=os.path.join(copy_data,numbers[int(first_letter)],f)\n",
    "    shutil.copyfile(src_file,dest_file)\n",
    "    \n",
    "for i in numbers:\n",
    "    p=os.path.join(copy_data,i)\n",
    "    total_list=os.listdir(p)\n",
    "    total_len=len(total_list)\n",
    "    train_len=total_len*90 // 100\n",
    "    test_len=total_len*10 // 100\n",
    "    \n",
    "    for j,pp in enumerate(total_list):\n",
    "        if j<train_len:\n",
    "            dest_path=os.path.join(train_data,pp)\n",
    "        else:\n",
    "            dest_path=os.path.join(test_data,pp)\n",
    "        source_path=os.path.join(copy_data,i,pp)\n",
    "        shutil.copy(source_path,dest_path)\n",
    "        \n",
    "        "
   ]
  },
  {
   "cell_type": "code",
   "execution_count": 17,
   "metadata": {},
   "outputs": [],
   "source": [
    "class CustomDataset(Dataset):\n",
    "    \n",
    "    def __init__(self,root_dir,transform=None):\n",
    "        self.root_dir=root_dir\n",
    "        self.listOfAllFiles=os.listdir(root_dir)\n",
    "        self.transform=transform\n",
    "        \n",
    "    def __len__(self):\n",
    "        return len(self.listOfAllFiles)\n",
    "    \n",
    "    def __getitem__(self,idx):\n",
    "        \n",
    "        assert idx >= 0 and idx < self.__len__()\n",
    "            \n",
    "        if torch.is_tensor(idx):\n",
    "                idx = idx.tolist()\n",
    "        \n",
    "        all_file=self.listOfAllFiles[idx]\n",
    "        first_num=all_file[0]\n",
    "        spectrog=self._wav2mfcc(os.path.join(self.root_dir,self.listOfAllFiles[idx]))\n",
    "        if self.transform:\n",
    "                spectrog = self.transform(spectrog) \n",
    "        return spectrog, int(first_num)\n",
    "    \n",
    "    def _wav2mfcc(self, file_path, max_pad_len=20):\n",
    "        wave, sr = librosa.load(file_path, mono=True, sr=None)\n",
    "        wave = wave[::3]\n",
    "        mfcc = librosa.feature.mfcc(wave, sr=8000)\n",
    "        pad_width = max_pad_len - mfcc.shape[1]\n",
    "        mfcc = np.pad(mfcc, pad_width=((0, 0), (0, pad_width)), mode='constant')\n",
    "        return mfcc\n",
    "        "
   ]
  },
  {
   "cell_type": "code",
   "execution_count": 18,
   "metadata": {},
   "outputs": [],
   "source": [
    "class Rescale(object):\n",
    "\n",
    "    def __init__(self, output_size):\n",
    "        assert isinstance(output_size, (int, tuple))\n",
    "        self.output_size = output_size\n",
    "\n",
    "    def __call__(self, sample):\n",
    "        \n",
    "\n",
    "        h, w = sample.shape[:2]\n",
    "        if isinstance(self.output_size, int):\n",
    "            if h > w:\n",
    "                new_h, new_w = self.output_size * h / w, self.output_size\n",
    "            else:\n",
    "                new_h, new_w = self.output_size, self.output_size * w / h\n",
    "        else:\n",
    "            new_h, new_w = self.output_size\n",
    "\n",
    "        new_h, new_w = int(new_h), int(new_w)\n",
    "\n",
    "        img = transform.resize(sample, (new_h, new_w))\n",
    "\n",
    "        \n",
    "        return img\n",
    "\n",
    "\n",
    "class RandomCrop(object):\n",
    "    \"\"\"Crop randomly the image in a sample.\n",
    "\n",
    "    Args:\n",
    "        output_size (tuple or int): Desired output size. If int, square crop\n",
    "            is made.\n",
    "    \"\"\"\n",
    "\n",
    "    def __init__(self, output_size):\n",
    "        assert isinstance(output_size, (int, tuple))\n",
    "        if isinstance(output_size, int):\n",
    "            self.output_size = (output_size, output_size)\n",
    "        else:\n",
    "            assert len(output_size) == 2\n",
    "            self.output_size = output_size\n",
    "\n",
    "    def __call__(self, sample):\n",
    "        \n",
    "\n",
    "        h, w = sample.shape[:2]\n",
    "        new_h, new_w = self.output_size\n",
    "## 4 lines\n",
    "        \n",
    "        \n",
    "        top = np.random.randint(0, h - new_h)\n",
    "        left = np.random.randint(0, w - new_w)\n",
    "\n",
    "        sample = sample[top: top + new_h,\n",
    "                      left: left + new_w]\n",
    "\n",
    "        return sample\n",
    "\n",
    "\n",
    "class ToTensor(object):\n",
    "    \"\"\"Convert ndarrays in sample to Tensors.\"\"\"\n",
    "\n",
    "    def __call__(self, sample):\n",
    "       \n",
    "\n",
    "        # swap color axis because\n",
    "        # numpy image: H x W x C\n",
    "        # torch image: C X H X W\n",
    "        sample.shape+=(1,)\n",
    "        sample = sample.transpose((2, 0, 1))\n",
    "        return sample "
   ]
  },
  {
   "cell_type": "code",
   "execution_count": 19,
   "metadata": {},
   "outputs": [],
   "source": [
    "custom_transform = transforms.Compose([Rescale(64), ToTensor()])\n",
    "\n",
    "train_dataset=CustomDataset(train_data,transform=custom_transform)\n",
    "test_dataset=CustomDataset(test_data,transform=custom_transform)\n",
    "\n",
    "train_loader=DataLoader(train_dataset,batch_size=16,shuffle=True,num_workers=3) ## num_workers\n",
    "test_loader=DataLoader(test_dataset,batch_size=16,shuffle=True,num_workers=3)"
   ]
  },
  {
   "cell_type": "code",
   "execution_count": 20,
   "metadata": {},
   "outputs": [],
   "source": [
    "# model\n",
    "\n",
    "class Net(nn.Module):\n",
    "\n",
    "    def __init__(self, w, h):\n",
    "        super(Net, self).__init__()\n",
    "        self.w = (((w-2) // 2)-2) // 2\n",
    "        self.h = (((h-2) // 2)-2) // 2\n",
    "        self.conv1 = nn.Conv2d(1, 32, 3)\n",
    "        self.pool = nn.MaxPool2d(2, 2)\n",
    "        self.conv2 = nn.Conv2d(32, 64, 3)\n",
    "        self.fc1 = nn.Linear(64 * self.w * self.h, 32)\n",
    "        self.fc2 = nn.Linear(32, 16)\n",
    "        self.fc3 = nn.Linear(16, 10)\n",
    "        self.softmax = nn.Softmax(dim=1)\n",
    "    \n",
    "    def forward(self, x):\n",
    "        x = self.pool(F.relu(self.conv1(x)))\n",
    "        x = self.pool(F.relu(self.conv2(x)))\n",
    "        x = x.view(-1, 64 * self.w * self.h)\n",
    "        x = F.relu(self.fc1(x))\n",
    "        x = F.relu(self.fc2(x))\n",
    "        x = self.fc3(x)\n",
    "        x = self.softmax(x)\n",
    "        \n",
    "        return x\n",
    "\n",
    "net = Net(64,64)"
   ]
  },
  {
   "cell_type": "code",
   "execution_count": 21,
   "metadata": {},
   "outputs": [],
   "source": [
    "# loss function and optimizer\n",
    "\n",
    "criterion = nn.CrossEntropyLoss()\n",
    "optimizer = optim.RMSprop(net.parameters(), lr=0.001)  \n",
    "\n",
    "def calculate_accuracy(dataloader, netWork):\n",
    "    total = 0\n",
    "    correct = 0\n",
    "    with torch.no_grad():\n",
    "        for data in dataloader:\n",
    "            images, labels = data\n",
    "            outputs = net(images)                         \n",
    "            _, predicted = torch.max(outputs.data, 1)\n",
    "            total += labels.size(0)\n",
    "            correct += (predicted == labels).sum().item()\n",
    "    \n",
    "    return  100 * correct / total\n"
   ]
  },
  {
   "cell_type": "code",
   "execution_count": 22,
   "metadata": {},
   "outputs": [
    {
     "name": "stdout",
     "output_type": "stream",
     "text": [
      "Epoch#1 train loss: 0.086  train accuracy: 10.000 %\n",
      "Epoch#2 train loss: 0.086  train accuracy: 10.000 %\n",
      "Epoch#3 train loss: 0.083  train accuracy: 16.000 %\n",
      "Epoch#4 train loss: 0.077  train accuracy: 48.111 %\n",
      "Epoch#5 train loss: 0.078  train accuracy: 49.778 %\n",
      "Epoch#6 train loss: 0.052  train accuracy: 68.000 %\n",
      "Epoch#7 train loss: 0.059  train accuracy: 69.000 %\n",
      "Epoch#8 train loss: 0.059  train accuracy: 70.333 %\n",
      "Epoch#9 train loss: 0.060  train accuracy: 76.889 %\n",
      "Epoch#10 train loss: 0.062  train accuracy: 76.556 %\n",
      "Epoch#11 train loss: 0.053  train accuracy: 78.111 %\n",
      "Epoch#12 train loss: 0.052  train accuracy: 81.778 %\n",
      "Epoch#13 train loss: 0.068  train accuracy: 82.444 %\n",
      "Epoch#14 train loss: 0.053  train accuracy: 66.000 %\n",
      "Epoch#15 train loss: 0.069  train accuracy: 78.778 %\n",
      "Epoch#16 train loss: 0.069  train accuracy: 84.111 %\n",
      "Epoch#17 train loss: 0.053  train accuracy: 76.111 %\n",
      "Epoch#18 train loss: 0.051  train accuracy: 84.222 %\n",
      "Epoch#19 train loss: 0.051  train accuracy: 83.778 %\n",
      "Epoch#20 train loss: 0.068  train accuracy: 84.333 %\n",
      "Epoch#21 train loss: 0.060  train accuracy: 83.889 %\n",
      "Epoch#22 train loss: 0.060  train accuracy: 83.667 %\n",
      "Epoch#23 train loss: 0.051  train accuracy: 85.778 %\n",
      "Epoch#24 train loss: 0.051  train accuracy: 85.556 %\n",
      "Epoch#25 train loss: 0.060  train accuracy: 85.333 %\n",
      "Epoch#26 train loss: 0.051  train accuracy: 86.444 %\n",
      "Epoch#27 train loss: 0.051  train accuracy: 86.444 %\n",
      "Epoch#28 train loss: 0.060  train accuracy: 86.444 %\n",
      "Epoch#29 train loss: 0.051  train accuracy: 86.333 %\n",
      "Epoch#30 train loss: 0.051  train accuracy: 84.667 %\n",
      "Epoch#31 train loss: 0.057  train accuracy: 74.778 %\n",
      "Epoch#32 train loss: 0.069  train accuracy: 83.222 %\n",
      "Epoch#33 train loss: 0.053  train accuracy: 83.444 %\n",
      "Epoch#34 train loss: 0.051  train accuracy: 86.889 %\n",
      "Epoch#35 train loss: 0.058  train accuracy: 71.667 %\n",
      "Epoch#36 train loss: 0.051  train accuracy: 93.889 %\n",
      "Epoch#37 train loss: 0.059  train accuracy: 92.111 %\n",
      "Epoch#38 train loss: 0.053  train accuracy: 87.333 %\n",
      "Epoch#39 train loss: 0.052  train accuracy: 95.111 %\n",
      "Epoch#40 train loss: 0.051  train accuracy: 95.556 %\n",
      "Epoch#41 train loss: 0.051  train accuracy: 95.444 %\n",
      "Epoch#42 train loss: 0.051  train accuracy: 95.444 %\n",
      "Epoch#43 train loss: 0.051  train accuracy: 90.667 %\n",
      "Epoch#44 train loss: 0.054  train accuracy: 75.000 %\n",
      "Epoch#45 train loss: 0.051  train accuracy: 95.222 %\n",
      "Epoch#46 train loss: 0.051  train accuracy: 95.778 %\n",
      "Epoch#47 train loss: 0.051  train accuracy: 94.444 %\n",
      "Epoch#48 train loss: 0.051  train accuracy: 90.778 %\n",
      "Epoch#49 train loss: 0.051  train accuracy: 96.889 %\n",
      "Epoch#50 train loss: 0.051  train accuracy: 96.222 %\n"
     ]
    }
   ],
   "source": [
    "epochs=50\n",
    "train_loss=[]\n",
    "train_accuracy=[]\n",
    "for e in range(epochs):\n",
    "    loss=0.0\n",
    "    k=0\n",
    "    for i,data in enumerate(train_loader,0):\n",
    "        spec,num=data\n",
    "        out_data=net(spec)\n",
    "        loss = criterion(out_data,num)\n",
    "        optimizer.zero_grad()\n",
    "        loss.backward()\n",
    "        optimizer.step()\n",
    "        loss+=loss.item()\n",
    "        k+=1\n",
    "    loss/=k\n",
    "    train_loss.append(loss)\n",
    "    acc=calculate_accuracy(train_loader,net)   \n",
    "    train_accuracy.append(acc)\n",
    "    print('Epoch#{:d} train loss: {:.3f} '.format(e+1,loss), end=' ')\n",
    "    print('train accuracy: {:.3f} %'.format(acc))\n",
    "    \n",
    "       "
   ]
  },
  {
   "cell_type": "code",
   "execution_count": 23,
   "metadata": {},
   "outputs": [
    {
     "name": "stdout",
     "output_type": "stream",
     "text": [
      "Test Dataset Accuracy : 90.000 %\n"
     ]
    }
   ],
   "source": [
    "a=calculate_accuracy(test_loader,net)\n",
    "print('Test Dataset Accuracy : {:.3f} %'.format(a))"
   ]
  },
  {
   "cell_type": "code",
   "execution_count": 27,
   "metadata": {},
   "outputs": [
    {
     "data": {
      "text/plain": [
       "Text(0, 0.5, 'Accuracy')"
      ]
     },
     "execution_count": 27,
     "metadata": {},
     "output_type": "execute_result"
    },
    {
     "data": {
      "image/png": "[encoded data removed]",
      "text/plain": [
       "<Figure size 432x288 with 1 Axes>"
      ]
     },
     "metadata": {
      "needs_background": "light"
     },
     "output_type": "display_data"
    }
   ],
   "source": [
    "plt.figure()\n",
    "lenn=range(1,len(train_accuracy)+1)\n",
    "plt.plot(lenn,train_accuracy,'b')\n",
    "plt.title('Training Accuracy Graph')\n",
    "plt.xlabel('Epochs')\n",
    "plt.ylabel('Accuracy')"
   ]
  },
  {
   "cell_type": "code",
   "execution_count": 28,
   "metadata": {},
   "outputs": [
    {
     "data": {
      "text/plain": [
       "Text(0, 0.5, 'Loss')"
      ]
     },
     "execution_count": 28,
     "metadata": {},
     "output_type": "execute_result"
    },
    {
     "data": {
      "image/png": "[encoded data removed]",
      "text/plain": [
       "<Figure size 432x288 with 1 Axes>"
      ]
     },
     "metadata": {
      "needs_background": "light"
     },
     "output_type": "display_data"
    }
   ],
   "source": [
    "plt.figure()\n",
    "lenn=range(1,len(train_loss)+1)\n",
    "plt.plot(lenn,train_loss,'b')\n",
    "plt.title('Training Loss Graph')\n",
    "plt.xlabel('Epochs')\n",
    "plt.ylabel('Loss')"
   ]
  },
  {
   "cell_type": "code",
   "execution_count": null,
   "metadata": {},
   "outputs": [],
   "source": [
    "# Here Train Accuracy : 96%\n",
    "# Here Test Accuracy : 90%\n",
    "# I didn't use Validation Set. Just Train Set and Test Set"
   ]
  }
 ],
 "metadata": {
  "kernelspec": {
   "display_name": "pytorch-dl",
   "language": "python",
   "name": "pytorch-dl"
  },
  "language_info": {
   "codemirror_mode": {
    "name": "ipython",
    "version": 3
   },
   "file_extension": ".py",
   "mimetype": "text/x-python",
   "name": "python",
   "nbconvert_exporter": "python",
   "pygments_lexer": "ipython3",
   "version": "3.7.7"
  }
 },
 "nbformat": 4,
 "nbformat_minor": 4
}
